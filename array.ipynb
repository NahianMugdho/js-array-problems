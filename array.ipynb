{
 "cells": [
  {
   "cell_type": "markdown",
   "metadata": {},
   "source": [
    "### 1. Declare an array \n",
    "1. Declare an array with 5 elements containing fruits\n",
    "2. console log the 3rd index element\n",
    "3. change the value of the 2nd index element to jambura\n",
    "4. console log the final array"
   ]
  },
  {
   "cell_type": "code",
   "execution_count": 2,
   "metadata": {
    "dotnet_interactive": {
     "language": "javascript"
    },
    "polyglot_notebook": {
     "kernelName": "javascript"
    },
    "vscode": {
     "languageId": "polyglot-notebook"
    }
   },
   "outputs": [
    {
     "data": {
      "text/plain": [
       "mango"
      ]
     },
     "metadata": {},
     "output_type": "display_data"
    },
    {
     "data": {
      "application/json": [
       "apple",
       "pine",
       "jambura",
       "mango",
       "lichie"
      ]
     },
     "metadata": {},
     "output_type": "display_data"
    }
   ],
   "source": [
    "let fruits = [\"apple\",\"pine\",\"banana\",\"mango\",\"lichie\"]\n",
    "console.log(fruits[3])\n",
    "fruits[2] = \"jambura\"\n",
    "console.log(fruits)"
   ]
  },
  {
   "cell_type": "markdown",
   "metadata": {},
   "source": [
    "### 2. Add or remove elements\n",
    "1. Declare an array of 3 tourist destinations\n",
    "2. Add a new tourist destination to your tourist array\n",
    "3. Add two more to your array\n",
    "4. Remove the last tourist destination you have added\n",
    "5. display the final array as output"
   ]
  },
  {
   "cell_type": "code",
   "execution_count": 7,
   "metadata": {
    "dotnet_interactive": {
     "language": "javascript"
    },
    "polyglot_notebook": {
     "kernelName": "javascript"
    },
    "vscode": {
     "languageId": "polyglot-notebook"
    }
   },
   "outputs": [
    {
     "data": {
      "application/json": [
       "dhaka",
       "ctg",
       "bandorban",
       "sylhet"
      ]
     },
     "metadata": {},
     "output_type": "display_data"
    },
    {
     "data": {
      "application/json": [
       "dhaka",
       "ctg",
       "bandorban",
       "sylhet",
       "rangpur",
       "rajshahi"
      ]
     },
     "metadata": {},
     "output_type": "display_data"
    },
    {
     "data": {
      "application/json": [
       "dhaka",
       "ctg",
       "bandorban",
       "sylhet",
       "rangpur"
      ]
     },
     "metadata": {},
     "output_type": "display_data"
    }
   ],
   "source": [
    "let spot = ['dhaka','ctg','bandorban']\n",
    "spot.push('sylhet')\n",
    "console.log(spot)\n",
    "spot.push('rangpur')\n",
    "spot.push('rajshahi')\n",
    "console.log(spot)\n",
    "spot.pop()\n",
    "console.log(spot)"
   ]
  },
  {
   "cell_type": "markdown",
   "metadata": {},
   "source": [
    "### 3. Checking Array Membership with ‘includes’\n",
    "\n",
    "**Instructions:**\n",
    "\n",
    "1. Create an array of books containing different book.\n",
    "\n",
    "2. Use the includes method to check if the array contains a javascript book.\n",
    "\n",
    "3. Print a message to the console indicating whether the element is present in the array or not."
   ]
  },
  {
   "cell_type": "code",
   "execution_count": 8,
   "metadata": {
    "dotnet_interactive": {
     "language": "javascript"
    },
    "polyglot_notebook": {
     "kernelName": "javascript"
    },
    "vscode": {
     "languageId": "polyglot-notebook"
    }
   },
   "outputs": [
    {
     "data": {
      "text/plain": [
       "included"
      ]
     },
     "metadata": {},
     "output_type": "display_data"
    }
   ],
   "source": [
    "let books = ['bangla','english','javascript']\n",
    "if(books.includes('javascript'))\n",
    "{\n",
    "    console.log(\"included\")\n",
    "\n",
    "}\n",
    "else{\n",
    "    console.log(\"Not - included\")\n",
    "}"
   ]
  },
  {
   "cell_type": "markdown",
   "metadata": {},
   "source": [
    "### 4. Checking if it's an Array\n",
    "\n",
    "**Instructions:**\n",
    "\n",
    "1. Create different variables, each containing either an array or a non-array value.\n",
    "\n",
    "2. Now use isArray to check if each variable is an array.\n",
    "\n",
    "3. Print a message to the console indicating whether each variable is an array or not."
   ]
  },
  {
   "cell_type": "code",
   "execution_count": 10,
   "metadata": {
    "dotnet_interactive": {
     "language": "javascript"
    },
    "polyglot_notebook": {
     "kernelName": "javascript"
    },
    "vscode": {
     "languageId": "polyglot-notebook"
    }
   },
   "outputs": [
    {
     "data": {
      "text/plain": [
       "true"
      ]
     },
     "metadata": {},
     "output_type": "display_data"
    },
    {
     "data": {
      "text/plain": [
       "false"
      ]
     },
     "metadata": {},
     "output_type": "display_data"
    },
    {
     "data": {
      "text/plain": [
       "false"
      ]
     },
     "metadata": {},
     "output_type": "display_data"
    }
   ],
   "source": [
    "s1= [1,2,3,4]\n",
    "s2 = 3\n",
    "s3 = 'hello'\n",
    "A=Array.isArray(s1)\n",
    "B=Array.isArray(s2)\n",
    "C=Array.isArray(s3)\n",
    "console.log(A)\n",
    "console.log(B)\n",
    "console.log(C)"
   ]
  },
  {
   "cell_type": "markdown",
   "metadata": {},
   "source": [
    "### 5. Combining Arrays\n",
    "\n",
    "**Instructions:**\n",
    "\n",
    "1. Create two arrays of your choice.\n",
    "2. Use the concat method to combine the two arrays into a new array.\n",
    "3. Print both the original arrays and the combined array using console.log().\n"
   ]
  },
  {
   "cell_type": "code",
   "execution_count": 12,
   "metadata": {
    "dotnet_interactive": {
     "language": "javascript"
    },
    "polyglot_notebook": {
     "kernelName": "javascript"
    },
    "vscode": {
     "languageId": "polyglot-notebook"
    }
   },
   "outputs": [
    {
     "data": {
      "application/json": [
       1,
       2,
       3,
       4
      ]
     },
     "metadata": {},
     "output_type": "display_data"
    },
    {
     "data": {
      "application/json": [
       5,
       6,
       7,
       8
      ]
     },
     "metadata": {},
     "output_type": "display_data"
    },
    {
     "data": {
      "application/json": [
       1,
       2,
       3,
       4,
       5,
       6,
       7,
       8
      ]
     },
     "metadata": {},
     "output_type": "display_data"
    }
   ],
   "source": [
    "let arr1 = [1,2,3,4]\n",
    "let arr2 = [5,6,7,8]\n",
    "arr=arr1.concat(arr2)\n",
    "console.log(arr1)\n",
    "console.log(arr2)\n",
    "console.log(arr)"
   ]
  }
 ],
 "metadata": {
  "kernelspec": {
   "display_name": ".NET (C#)",
   "language": "C#",
   "name": ".net-csharp"
  },
  "language_info": {
   "name": "python"
  },
  "polyglot_notebook": {
   "kernelInfo": {
    "defaultKernelName": "csharp",
    "items": [
     {
      "aliases": [],
      "name": "csharp"
     }
    ]
   }
  }
 },
 "nbformat": 4,
 "nbformat_minor": 2
}
